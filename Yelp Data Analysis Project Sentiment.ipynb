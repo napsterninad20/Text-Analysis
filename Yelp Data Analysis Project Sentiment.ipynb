{
 "cells": [
  {
   "cell_type": "markdown",
   "metadata": {},
   "source": [
    "## Data Loading and Pre-processing"
   ]
  },
  {
   "cell_type": "code",
   "execution_count": 1,
   "metadata": {},
   "outputs": [],
   "source": [
    "# import all the libraries\n",
    "import json\n",
    "import os\n",
    "import numpy as np\n",
    "import pandas as pd\n",
    "from tqdm import tqdm\n",
    "import re\n",
    "\n",
    "import time\n",
    "import nltk\n",
    "from nltk.tokenize import regexp_tokenize\n",
    "from nltk.corpus import stopwords\n",
    "from nltk.stem import WordNetLemmatizer\n",
    "from textblob import TextBlob\n",
    "\n",
    "\n",
    "%matplotlib inline\n",
    "import matplotlib.pyplot as plt\n",
    "import seaborn as sns \n",
    "color = sns.color_palette()\n",
    "sns.set_style(\"dark\")"
   ]
  },
  {
   "cell_type": "code",
   "execution_count": 2,
   "metadata": {},
   "outputs": [
    {
     "name": "stderr",
     "output_type": "stream",
     "text": [
      "6685900it [01:17, 86657.36it/s] \n"
     ]
    }
   ],
   "source": [
    "# Load data from reviews json file into dataframe\n",
    "data = {'business_id': [],'date': [], 'stars': [], 'text': []}\n",
    "with open('./yelp_dataset/review.json') as f:\n",
    "    for line in tqdm(f):\n",
    "        review = json.loads(line)\n",
    "        data['business_id'].append(review['business_id'])\n",
    "        data['date'].append(review['date'])\n",
    "        data['stars'].append(review['stars'])\n",
    "        data['text'].append(review['text'])  \n",
    "reviews_df = pd.DataFrame(data)"
   ]
  },
  {
   "cell_type": "code",
   "execution_count": 3,
   "metadata": {},
   "outputs": [
    {
     "name": "stderr",
     "output_type": "stream",
     "text": [
      "192609it [00:03, 55594.28it/s]\n"
     ]
    }
   ],
   "source": [
    "# Load data from business json file into dataframe\n",
    "data2 = {'business_id': [], 'name': [], 'city': [], 'categories': []}\n",
    "with open('./yelp_dataset/business.json') as f:\n",
    "    for line in tqdm(f):\n",
    "        business = json.loads(line)\n",
    "        data2['business_id'].append(business['business_id'])\n",
    "        data2['name'].append(business['name'])\n",
    "        data2['city'].append(business['city'])\n",
    "        data2['categories'].append(business['categories'])\n",
    "business_df = pd.DataFrame(data2)"
   ]
  },
  {
   "cell_type": "code",
   "execution_count": 4,
   "metadata": {},
   "outputs": [
    {
     "data": {
      "text/html": [
       "<div>\n",
       "<style scoped>\n",
       "    .dataframe tbody tr th:only-of-type {\n",
       "        vertical-align: middle;\n",
       "    }\n",
       "\n",
       "    .dataframe tbody tr th {\n",
       "        vertical-align: top;\n",
       "    }\n",
       "\n",
       "    .dataframe thead th {\n",
       "        text-align: right;\n",
       "    }\n",
       "</style>\n",
       "<table border=\"1\" class=\"dataframe\">\n",
       "  <thead>\n",
       "    <tr style=\"text-align: right;\">\n",
       "      <th></th>\n",
       "      <th>business_id</th>\n",
       "      <th>date</th>\n",
       "      <th>stars</th>\n",
       "      <th>text</th>\n",
       "    </tr>\n",
       "  </thead>\n",
       "  <tbody>\n",
       "    <tr>\n",
       "      <td>0</td>\n",
       "      <td>ujmEBvifdJM6h6RLv4wQIg</td>\n",
       "      <td>2013-05-07 04:34:36</td>\n",
       "      <td>1.0</td>\n",
       "      <td>Total bill for this horrible service? Over $8G...</td>\n",
       "    </tr>\n",
       "    <tr>\n",
       "      <td>1</td>\n",
       "      <td>NZnhc2sEQy3RmzKTZnqtwQ</td>\n",
       "      <td>2017-01-14 21:30:33</td>\n",
       "      <td>5.0</td>\n",
       "      <td>I *adore* Travis at the Hard Rock's new Kelly ...</td>\n",
       "    </tr>\n",
       "    <tr>\n",
       "      <td>2</td>\n",
       "      <td>WTqjgwHlXbSFevF32_DJVw</td>\n",
       "      <td>2016-11-09 20:09:03</td>\n",
       "      <td>5.0</td>\n",
       "      <td>I have to say that this office really has it t...</td>\n",
       "    </tr>\n",
       "  </tbody>\n",
       "</table>\n",
       "</div>"
      ],
      "text/plain": [
       "              business_id                 date  stars  \\\n",
       "0  ujmEBvifdJM6h6RLv4wQIg  2013-05-07 04:34:36    1.0   \n",
       "1  NZnhc2sEQy3RmzKTZnqtwQ  2017-01-14 21:30:33    5.0   \n",
       "2  WTqjgwHlXbSFevF32_DJVw  2016-11-09 20:09:03    5.0   \n",
       "\n",
       "                                                text  \n",
       "0  Total bill for this horrible service? Over $8G...  \n",
       "1  I *adore* Travis at the Hard Rock's new Kelly ...  \n",
       "2  I have to say that this office really has it t...  "
      ]
     },
     "execution_count": 4,
     "metadata": {},
     "output_type": "execute_result"
    }
   ],
   "source": [
    "# View first 3 records in reviews data frame\n",
    "reviews_df.head(3)"
   ]
  },
  {
   "cell_type": "code",
   "execution_count": 5,
   "metadata": {},
   "outputs": [
    {
     "name": "stdout",
     "output_type": "stream",
     "text": [
      "(6685900, 4)\n"
     ]
    }
   ],
   "source": [
    "# Shape of reviews data frame - rows and columns\n",
    "print(reviews_df.shape)"
   ]
  },
  {
   "cell_type": "code",
   "execution_count": 6,
   "metadata": {},
   "outputs": [
    {
     "data": {
      "text/html": [
       "<div>\n",
       "<style scoped>\n",
       "    .dataframe tbody tr th:only-of-type {\n",
       "        vertical-align: middle;\n",
       "    }\n",
       "\n",
       "    .dataframe tbody tr th {\n",
       "        vertical-align: top;\n",
       "    }\n",
       "\n",
       "    .dataframe thead th {\n",
       "        text-align: right;\n",
       "    }\n",
       "</style>\n",
       "<table border=\"1\" class=\"dataframe\">\n",
       "  <thead>\n",
       "    <tr style=\"text-align: right;\">\n",
       "      <th></th>\n",
       "      <th>business_id</th>\n",
       "      <th>name</th>\n",
       "      <th>city</th>\n",
       "      <th>categories</th>\n",
       "    </tr>\n",
       "  </thead>\n",
       "  <tbody>\n",
       "    <tr>\n",
       "      <td>0</td>\n",
       "      <td>1SWheh84yJXfytovILXOAQ</td>\n",
       "      <td>Arizona Biltmore Golf Club</td>\n",
       "      <td>Phoenix</td>\n",
       "      <td>Golf, Active Life</td>\n",
       "    </tr>\n",
       "    <tr>\n",
       "      <td>1</td>\n",
       "      <td>QXAEGFB4oINsVuTFxEYKFQ</td>\n",
       "      <td>Emerald Chinese Restaurant</td>\n",
       "      <td>Mississauga</td>\n",
       "      <td>Specialty Food, Restaurants, Dim Sum, Imported...</td>\n",
       "    </tr>\n",
       "    <tr>\n",
       "      <td>2</td>\n",
       "      <td>gnKjwL_1w79qoiV3IC_xQQ</td>\n",
       "      <td>Musashi Japanese Restaurant</td>\n",
       "      <td>Charlotte</td>\n",
       "      <td>Sushi Bars, Restaurants, Japanese</td>\n",
       "    </tr>\n",
       "  </tbody>\n",
       "</table>\n",
       "</div>"
      ],
      "text/plain": [
       "              business_id                         name         city  \\\n",
       "0  1SWheh84yJXfytovILXOAQ   Arizona Biltmore Golf Club      Phoenix   \n",
       "1  QXAEGFB4oINsVuTFxEYKFQ   Emerald Chinese Restaurant  Mississauga   \n",
       "2  gnKjwL_1w79qoiV3IC_xQQ  Musashi Japanese Restaurant    Charlotte   \n",
       "\n",
       "                                          categories  \n",
       "0                                  Golf, Active Life  \n",
       "1  Specialty Food, Restaurants, Dim Sum, Imported...  \n",
       "2                  Sushi Bars, Restaurants, Japanese  "
      ]
     },
     "execution_count": 6,
     "metadata": {},
     "output_type": "execute_result"
    }
   ],
   "source": [
    "# View first 3 records in business data frame\n",
    "business_df.head(3)"
   ]
  },
  {
   "cell_type": "code",
   "execution_count": 7,
   "metadata": {},
   "outputs": [
    {
     "name": "stdout",
     "output_type": "stream",
     "text": [
      "(192609, 4)\n"
     ]
    }
   ],
   "source": [
    "# Shape of business data frame - rows and columns\n",
    "print(business_df.shape)"
   ]
  },
  {
   "cell_type": "code",
   "execution_count": 8,
   "metadata": {},
   "outputs": [
    {
     "data": {
      "text/plain": [
       "(6685900, 7)"
      ]
     },
     "execution_count": 8,
     "metadata": {},
     "output_type": "execute_result"
    }
   ],
   "source": [
    "# Merge both the data frames on business id column\n",
    "df = pd.merge(left=reviews_df,right=business_df, left_on='business_id', right_on='business_id')\n",
    "df.shape"
   ]
  },
  {
   "cell_type": "code",
   "execution_count": 9,
   "metadata": {},
   "outputs": [
    {
     "data": {
      "text/html": [
       "<div>\n",
       "<style scoped>\n",
       "    .dataframe tbody tr th:only-of-type {\n",
       "        vertical-align: middle;\n",
       "    }\n",
       "\n",
       "    .dataframe tbody tr th {\n",
       "        vertical-align: top;\n",
       "    }\n",
       "\n",
       "    .dataframe thead th {\n",
       "        text-align: right;\n",
       "    }\n",
       "</style>\n",
       "<table border=\"1\" class=\"dataframe\">\n",
       "  <thead>\n",
       "    <tr style=\"text-align: right;\">\n",
       "      <th></th>\n",
       "      <th>business_id</th>\n",
       "      <th>date</th>\n",
       "      <th>stars</th>\n",
       "      <th>text</th>\n",
       "      <th>name</th>\n",
       "      <th>city</th>\n",
       "      <th>categories</th>\n",
       "    </tr>\n",
       "  </thead>\n",
       "  <tbody>\n",
       "    <tr>\n",
       "      <td>0</td>\n",
       "      <td>ujmEBvifdJM6h6RLv4wQIg</td>\n",
       "      <td>2013-05-07 04:34:36</td>\n",
       "      <td>1.0</td>\n",
       "      <td>Total bill for this horrible service? Over $8G...</td>\n",
       "      <td>MountainView Hospital</td>\n",
       "      <td>Las Vegas</td>\n",
       "      <td>Fitness &amp; Instruction, Doctors, Health &amp; Medic...</td>\n",
       "    </tr>\n",
       "    <tr>\n",
       "      <td>1</td>\n",
       "      <td>ujmEBvifdJM6h6RLv4wQIg</td>\n",
       "      <td>2017-02-09 06:45:18</td>\n",
       "      <td>4.0</td>\n",
       "      <td>My family has used this ER four times in the p...</td>\n",
       "      <td>MountainView Hospital</td>\n",
       "      <td>Las Vegas</td>\n",
       "      <td>Fitness &amp; Instruction, Doctors, Health &amp; Medic...</td>\n",
       "    </tr>\n",
       "    <tr>\n",
       "      <td>2</td>\n",
       "      <td>ujmEBvifdJM6h6RLv4wQIg</td>\n",
       "      <td>2018-08-14 05:25:33</td>\n",
       "      <td>1.0</td>\n",
       "      <td>I have never been more disappointed by the car...</td>\n",
       "      <td>MountainView Hospital</td>\n",
       "      <td>Las Vegas</td>\n",
       "      <td>Fitness &amp; Instruction, Doctors, Health &amp; Medic...</td>\n",
       "    </tr>\n",
       "  </tbody>\n",
       "</table>\n",
       "</div>"
      ],
      "text/plain": [
       "              business_id                 date  stars  \\\n",
       "0  ujmEBvifdJM6h6RLv4wQIg  2013-05-07 04:34:36    1.0   \n",
       "1  ujmEBvifdJM6h6RLv4wQIg  2017-02-09 06:45:18    4.0   \n",
       "2  ujmEBvifdJM6h6RLv4wQIg  2018-08-14 05:25:33    1.0   \n",
       "\n",
       "                                                text                   name  \\\n",
       "0  Total bill for this horrible service? Over $8G...  MountainView Hospital   \n",
       "1  My family has used this ER four times in the p...  MountainView Hospital   \n",
       "2  I have never been more disappointed by the car...  MountainView Hospital   \n",
       "\n",
       "        city                                         categories  \n",
       "0  Las Vegas  Fitness & Instruction, Doctors, Health & Medic...  \n",
       "1  Las Vegas  Fitness & Instruction, Doctors, Health & Medic...  \n",
       "2  Las Vegas  Fitness & Instruction, Doctors, Health & Medic...  "
      ]
     },
     "execution_count": 9,
     "metadata": {},
     "output_type": "execute_result"
    }
   ],
   "source": [
    "df.head(3)"
   ]
  },
  {
   "cell_type": "code",
   "execution_count": 10,
   "metadata": {},
   "outputs": [
    {
     "data": {
      "text/plain": [
       "business_id     object\n",
       "date            object\n",
       "stars          float64\n",
       "text            object\n",
       "name            object\n",
       "city            object\n",
       "categories      object\n",
       "dtype: object"
      ]
     },
     "execution_count": 10,
     "metadata": {},
     "output_type": "execute_result"
    }
   ],
   "source": [
    "# Check the data frame column data types\n",
    "df.dtypes"
   ]
  },
  {
   "cell_type": "code",
   "execution_count": 11,
   "metadata": {},
   "outputs": [
    {
     "data": {
      "text/plain": [
       "business_id            object\n",
       "date           datetime64[ns]\n",
       "stars                category\n",
       "text                   object\n",
       "name                   object\n",
       "city                   object\n",
       "categories             object\n",
       "dtype: object"
      ]
     },
     "execution_count": 11,
     "metadata": {},
     "output_type": "execute_result"
    }
   ],
   "source": [
    "# Update the data types of all the columns\n",
    "df['business_id'] = df['business_id'].astype(str)\n",
    "df['date'] = pd.to_datetime(df['date'])\n",
    "df['stars'] = df['stars'].astype('category')\n",
    "df['text'] = df['text'].astype(str)\n",
    "df['name'] = df['name'].astype(str)\n",
    "df['city'] = df['city'].astype(str)\n",
    "df['categories'] = df['categories'].astype(str)\n",
    "\n",
    "# Verify the data types\n",
    "df.dtypes"
   ]
  },
  {
   "cell_type": "raw",
   "metadata": {},
   "source": [
    "import pickle\n",
    "df.to_pickle(\"./YelpReviewsData.pkl\")"
   ]
  },
  {
   "cell_type": "raw",
   "metadata": {},
   "source": [
    "df = pd.read_pickle(\"./YelpReviewsData.pkl\")"
   ]
  },
  {
   "cell_type": "code",
   "execution_count": 12,
   "metadata": {},
   "outputs": [
    {
     "data": {
      "image/png": "[encoded data removed]",
      "text/plain": [
       "<Figure size 1152x576 with 1 Axes>"
      ]
     },
     "metadata": {
      "needs_background": "light"
     },
     "output_type": "display_data"
    }
   ],
   "source": [
    "# What are the popular business categories?\n",
    "business_df['categories'] = business_df['categories'].astype(str)\n",
    "business_cats = ' '.join(business_df['categories'])\n",
    "cats = pd.DataFrame(business_cats.split(','),columns=['category'])\n",
    "x = cats.category.value_counts()\n",
    "\n",
    "#prep for chart\n",
    "x=x.sort_values(ascending=False)\n",
    "x=x.iloc[0:10]\n",
    "\n",
    "#chart\n",
    "plt.figure(figsize=(16,8))\n",
    "ax = sns.barplot(x.index, x.values, alpha=0.8)#,color=color[5])\n",
    "plt.title(\"What are the top 10 categories?\",fontsize=25)\n",
    "locs, labels = plt.xticks()\n",
    "plt.setp(labels, rotation=80)\n",
    "plt.ylabel('# businesses', fontsize=12)\n",
    "plt.xlabel('Category', fontsize=12)\n",
    "\n",
    "#adding the text labels\n",
    "rects = ax.patches\n",
    "labels = x.values\n",
    "for rect, label in zip(rects, labels):\n",
    "    height = rect.get_height()\n",
    "    ax.text(rect.get_x() + rect.get_width()/2, height + 5, label, ha='center', va='bottom')\n",
    "\n",
    "plt.show()"
   ]
  },
  {
   "cell_type": "code",
   "execution_count": 13,
   "metadata": {},
   "outputs": [
    {
     "data": {
      "text/plain": [
       "(4201684, 8)"
      ]
     },
     "execution_count": 13,
     "metadata": {},
     "output_type": "execute_result"
    }
   ],
   "source": [
    "# Filter records - keep only restaurant category records\n",
    "df['is_restaurant'] = [bool(re.search(\"Restaurants\", category)) for category in df.categories]\n",
    "df = df[df.is_restaurant == True]\n",
    "df.shape"
   ]
  },
  {
   "cell_type": "code",
   "execution_count": 14,
   "metadata": {},
   "outputs": [
    {
     "data": {
      "image/png": "[encoded data removed]",
      "text/plain": [
       "<Figure size 1152x576 with 1 Axes>"
      ]
     },
     "metadata": {
      "needs_background": "light"
     },
     "output_type": "display_data"
    }
   ],
   "source": [
    "# Get the distribution of the ratings\n",
    "x=df['city'].value_counts()\n",
    "x=x.sort_values(ascending=False)\n",
    "x=x.iloc[0:10]\n",
    "plt.figure(figsize=(16,8))\n",
    "ax = sns.barplot(x.index, x.values, alpha=0.8,color=color[3])\n",
    "plt.title(\"Which city has the most reviews?\")\n",
    "locs, labels = plt.xticks()\n",
    "plt.setp(labels, rotation=45)\n",
    "plt.ylabel('# businesses', fontsize=12)\n",
    "plt.xlabel('City', fontsize=12)\n",
    "\n",
    "#adding the text labels\n",
    "rects = ax.patches\n",
    "labels = x.values\n",
    "for rect, label in zip(rects, labels):\n",
    "    height = rect.get_height()\n",
    "    ax.text(rect.get_x() + rect.get_width()/2, height + 5, label, ha='center', va='bottom')\n",
    "\n",
    "plt.show()"
   ]
  },
  {
   "cell_type": "code",
   "execution_count": 15,
   "metadata": {},
   "outputs": [
    {
     "data": {
      "text/plain": [
       "(207972, 5)"
      ]
     },
     "execution_count": 15,
     "metadata": {},
     "output_type": "execute_result"
    }
   ],
   "source": [
    "# Get records for only Las Vegas state\n",
    "df = df[df.city == 'Las Vegas']\n",
    "\n",
    "# Get records for only 2018 year\n",
    "df['Year'] = df['date'].dt.year\n",
    "df = df[df.Year == 2018]\n",
    "\n",
    "# Select all the required columns for analysis\n",
    "df = df[['business_id', 'date', 'stars', 'text', 'name']]\n",
    "\n",
    "# Drop duplicates\n",
    "df = df.drop_duplicates(['text'],keep='first',inplace=False)\n",
    "\n",
    "df.shape"
   ]
  },
  {
   "cell_type": "code",
   "execution_count": 16,
   "metadata": {},
   "outputs": [],
   "source": [
    "import pickle\n",
    "df.to_pickle(\"./YelpReviewsData.pkl\")"
   ]
  },
  {
   "cell_type": "code",
   "execution_count": 17,
   "metadata": {},
   "outputs": [
    {
     "data": {
      "text/plain": [
       "(207972, 5)"
      ]
     },
     "execution_count": 17,
     "metadata": {},
     "output_type": "execute_result"
    }
   ],
   "source": [
    "df.shape"
   ]
  },
  {
   "cell_type": "code",
   "execution_count": 18,
   "metadata": {},
   "outputs": [
    {
     "data": {
      "text/html": [
       "<div>\n",
       "<style scoped>\n",
       "    .dataframe tbody tr th:only-of-type {\n",
       "        vertical-align: middle;\n",
       "    }\n",
       "\n",
       "    .dataframe tbody tr th {\n",
       "        vertical-align: top;\n",
       "    }\n",
       "\n",
       "    .dataframe thead th {\n",
       "        text-align: right;\n",
       "    }\n",
       "</style>\n",
       "<table border=\"1\" class=\"dataframe\">\n",
       "  <thead>\n",
       "    <tr style=\"text-align: right;\">\n",
       "      <th></th>\n",
       "      <th>business_id</th>\n",
       "      <th>date</th>\n",
       "      <th>stars</th>\n",
       "      <th>text</th>\n",
       "      <th>name</th>\n",
       "    </tr>\n",
       "  </thead>\n",
       "  <tbody>\n",
       "    <tr>\n",
       "      <td>1336</td>\n",
       "      <td>8mIrX_LrOnAqWsB5JrOojQ</td>\n",
       "      <td>2018-05-08 17:29:19</td>\n",
       "      <td>5.0</td>\n",
       "      <td>Pinball machines are slowly working their way ...</td>\n",
       "      <td>Pinball Hall Of Fame</td>\n",
       "    </tr>\n",
       "    <tr>\n",
       "      <td>1338</td>\n",
       "      <td>8mIrX_LrOnAqWsB5JrOojQ</td>\n",
       "      <td>2018-08-14 03:34:23</td>\n",
       "      <td>5.0</td>\n",
       "      <td>Absolutely cute little pinball joint! So many ...</td>\n",
       "      <td>Pinball Hall Of Fame</td>\n",
       "    </tr>\n",
       "    <tr>\n",
       "      <td>1354</td>\n",
       "      <td>8mIrX_LrOnAqWsB5JrOojQ</td>\n",
       "      <td>2018-08-04 21:29:24</td>\n",
       "      <td>4.0</td>\n",
       "      <td>Nice \"retro\" activity with the kids - I was a ...</td>\n",
       "      <td>Pinball Hall Of Fame</td>\n",
       "    </tr>\n",
       "    <tr>\n",
       "      <td>1356</td>\n",
       "      <td>8mIrX_LrOnAqWsB5JrOojQ</td>\n",
       "      <td>2018-01-09 22:32:37</td>\n",
       "      <td>5.0</td>\n",
       "      <td>My husband and I go to Las Vegas a lot but had...</td>\n",
       "      <td>Pinball Hall Of Fame</td>\n",
       "    </tr>\n",
       "    <tr>\n",
       "      <td>1358</td>\n",
       "      <td>8mIrX_LrOnAqWsB5JrOojQ</td>\n",
       "      <td>2018-04-04 13:40:45</td>\n",
       "      <td>4.0</td>\n",
       "      <td>One of my favorite non-gambling venues to visi...</td>\n",
       "      <td>Pinball Hall Of Fame</td>\n",
       "    </tr>\n",
       "    <tr>\n",
       "      <td>1384</td>\n",
       "      <td>8mIrX_LrOnAqWsB5JrOojQ</td>\n",
       "      <td>2018-06-09 02:12:34</td>\n",
       "      <td>4.0</td>\n",
       "      <td>A fun place to spend an hour.  They have machi...</td>\n",
       "      <td>Pinball Hall Of Fame</td>\n",
       "    </tr>\n",
       "    <tr>\n",
       "      <td>1397</td>\n",
       "      <td>8mIrX_LrOnAqWsB5JrOojQ</td>\n",
       "      <td>2018-09-03 15:22:10</td>\n",
       "      <td>4.0</td>\n",
       "      <td>I've heard of this place for years and finally...</td>\n",
       "      <td>Pinball Hall Of Fame</td>\n",
       "    </tr>\n",
       "    <tr>\n",
       "      <td>1401</td>\n",
       "      <td>8mIrX_LrOnAqWsB5JrOojQ</td>\n",
       "      <td>2018-09-03 17:58:35</td>\n",
       "      <td>4.0</td>\n",
       "      <td>It was a nice little place to check out.  Espe...</td>\n",
       "      <td>Pinball Hall Of Fame</td>\n",
       "    </tr>\n",
       "    <tr>\n",
       "      <td>1409</td>\n",
       "      <td>8mIrX_LrOnAqWsB5JrOojQ</td>\n",
       "      <td>2018-07-08 04:54:19</td>\n",
       "      <td>5.0</td>\n",
       "      <td>This place was so fun.  Such a simple concept....</td>\n",
       "      <td>Pinball Hall Of Fame</td>\n",
       "    </tr>\n",
       "    <tr>\n",
       "      <td>1422</td>\n",
       "      <td>8mIrX_LrOnAqWsB5JrOojQ</td>\n",
       "      <td>2018-01-21 21:50:41</td>\n",
       "      <td>5.0</td>\n",
       "      <td>We were in town for a few days on a sad occasi...</td>\n",
       "      <td>Pinball Hall Of Fame</td>\n",
       "    </tr>\n",
       "  </tbody>\n",
       "</table>\n",
       "</div>"
      ],
      "text/plain": [
       "                 business_id                date stars  \\\n",
       "1336  8mIrX_LrOnAqWsB5JrOojQ 2018-05-08 17:29:19   5.0   \n",
       "1338  8mIrX_LrOnAqWsB5JrOojQ 2018-08-14 03:34:23   5.0   \n",
       "1354  8mIrX_LrOnAqWsB5JrOojQ 2018-08-04 21:29:24   4.0   \n",
       "1356  8mIrX_LrOnAqWsB5JrOojQ 2018-01-09 22:32:37   5.0   \n",
       "1358  8mIrX_LrOnAqWsB5JrOojQ 2018-04-04 13:40:45   4.0   \n",
       "1384  8mIrX_LrOnAqWsB5JrOojQ 2018-06-09 02:12:34   4.0   \n",
       "1397  8mIrX_LrOnAqWsB5JrOojQ 2018-09-03 15:22:10   4.0   \n",
       "1401  8mIrX_LrOnAqWsB5JrOojQ 2018-09-03 17:58:35   4.0   \n",
       "1409  8mIrX_LrOnAqWsB5JrOojQ 2018-07-08 04:54:19   5.0   \n",
       "1422  8mIrX_LrOnAqWsB5JrOojQ 2018-01-21 21:50:41   5.0   \n",
       "\n",
       "                                                   text                  name  \n",
       "1336  Pinball machines are slowly working their way ...  Pinball Hall Of Fame  \n",
       "1338  Absolutely cute little pinball joint! So many ...  Pinball Hall Of Fame  \n",
       "1354  Nice \"retro\" activity with the kids - I was a ...  Pinball Hall Of Fame  \n",
       "1356  My husband and I go to Las Vegas a lot but had...  Pinball Hall Of Fame  \n",
       "1358  One of my favorite non-gambling venues to visi...  Pinball Hall Of Fame  \n",
       "1384  A fun place to spend an hour.  They have machi...  Pinball Hall Of Fame  \n",
       "1397  I've heard of this place for years and finally...  Pinball Hall Of Fame  \n",
       "1401  It was a nice little place to check out.  Espe...  Pinball Hall Of Fame  \n",
       "1409  This place was so fun.  Such a simple concept....  Pinball Hall Of Fame  \n",
       "1422  We were in town for a few days on a sad occasi...  Pinball Hall Of Fame  "
      ]
     },
     "execution_count": 18,
     "metadata": {},
     "output_type": "execute_result"
    }
   ],
   "source": [
    "df.head(10)"
   ]
  },
  {
   "cell_type": "raw",
   "metadata": {},
   "source": [
    "# Clean reviews text to remove punctuations, stop words and keep only words. \n",
    "# Check how much time it takes to preprocess and clean the text\n",
    "\n",
    "lemmatizer = WordNetLemmatizer()\n",
    "start_time = time.time() \n",
    "clean_text = []\n",
    "for text in df['text']:\n",
    "    words = regexp_tokenize(text.lower(), r'[A-Za-z]+')\n",
    "    words = [w for w in words if len(w)>2 and w not in stopwords.words('english')]\n",
    "    words = [lemmatizer.lemmatize(w) for w in words]\n",
    "    clean_text.append(' '.join(words))\n",
    "\n",
    "df['clean_text'] = clean_text\n",
    "print('Elapsed clock time: ', (time.time() - start_time)/3600, ' seconds')"
   ]
  },
  {
   "cell_type": "code",
   "execution_count": 20,
   "metadata": {},
   "outputs": [],
   "source": [
    "df.to_pickle(\"./YelpReviewsData.pkl\")"
   ]
  },
  {
   "cell_type": "code",
   "execution_count": 28,
   "metadata": {},
   "outputs": [
    {
     "data": {
      "text/html": [
       "<div>\n",
       "<style scoped>\n",
       "    .dataframe tbody tr th:only-of-type {\n",
       "        vertical-align: middle;\n",
       "    }\n",
       "\n",
       "    .dataframe tbody tr th {\n",
       "        vertical-align: top;\n",
       "    }\n",
       "\n",
       "    .dataframe thead th {\n",
       "        text-align: right;\n",
       "    }\n",
       "</style>\n",
       "<table border=\"1\" class=\"dataframe\">\n",
       "  <thead>\n",
       "    <tr style=\"text-align: right;\">\n",
       "      <th></th>\n",
       "      <th>business_id</th>\n",
       "      <th>date</th>\n",
       "      <th>stars</th>\n",
       "      <th>text</th>\n",
       "      <th>name</th>\n",
       "      <th>clean_text</th>\n",
       "    </tr>\n",
       "  </thead>\n",
       "  <tbody>\n",
       "    <tr>\n",
       "      <td>1336</td>\n",
       "      <td>8mIrX_LrOnAqWsB5JrOojQ</td>\n",
       "      <td>2018-05-08 17:29:19</td>\n",
       "      <td>5.0</td>\n",
       "      <td>Pinball machines are slowly working their way ...</td>\n",
       "      <td>Pinball Hall Of Fame</td>\n",
       "      <td>pinball machine slowly working way society gla...</td>\n",
       "    </tr>\n",
       "    <tr>\n",
       "      <td>1338</td>\n",
       "      <td>8mIrX_LrOnAqWsB5JrOojQ</td>\n",
       "      <td>2018-08-14 03:34:23</td>\n",
       "      <td>5.0</td>\n",
       "      <td>Absolutely cute little pinball joint! So many ...</td>\n",
       "      <td>Pinball Hall Of Fame</td>\n",
       "      <td>absolutely cute little pinball joint many pinb...</td>\n",
       "    </tr>\n",
       "    <tr>\n",
       "      <td>1354</td>\n",
       "      <td>8mIrX_LrOnAqWsB5JrOojQ</td>\n",
       "      <td>2018-08-04 21:29:24</td>\n",
       "      <td>4.0</td>\n",
       "      <td>Nice \"retro\" activity with the kids - I was a ...</td>\n",
       "      <td>Pinball Hall Of Fame</td>\n",
       "      <td>nice retro activity kid little apprehensive fi...</td>\n",
       "    </tr>\n",
       "    <tr>\n",
       "      <td>1356</td>\n",
       "      <td>8mIrX_LrOnAqWsB5JrOojQ</td>\n",
       "      <td>2018-01-09 22:32:37</td>\n",
       "      <td>5.0</td>\n",
       "      <td>My husband and I go to Las Vegas a lot but had...</td>\n",
       "      <td>Pinball Hall Of Fame</td>\n",
       "      <td>husband la vega lot yet visit pinball hall fam...</td>\n",
       "    </tr>\n",
       "    <tr>\n",
       "      <td>1358</td>\n",
       "      <td>8mIrX_LrOnAqWsB5JrOojQ</td>\n",
       "      <td>2018-04-04 13:40:45</td>\n",
       "      <td>4.0</td>\n",
       "      <td>One of my favorite non-gambling venues to visi...</td>\n",
       "      <td>Pinball Hall Of Fame</td>\n",
       "      <td>one favorite non gambling venue visit town tri...</td>\n",
       "    </tr>\n",
       "    <tr>\n",
       "      <td>...</td>\n",
       "      <td>...</td>\n",
       "      <td>...</td>\n",
       "      <td>...</td>\n",
       "      <td>...</td>\n",
       "      <td>...</td>\n",
       "      <td>...</td>\n",
       "    </tr>\n",
       "    <tr>\n",
       "      <td>6685577</td>\n",
       "      <td>ESDIZvGMiFl7MfriZpXEqw</td>\n",
       "      <td>2018-10-20 00:58:20</td>\n",
       "      <td>3.0</td>\n",
       "      <td>Noisy and crowded. The school monkeys are a ho...</td>\n",
       "      <td>In-N-Out Burger</td>\n",
       "      <td>noisy crowded school monkey hootin hollerin ri...</td>\n",
       "    </tr>\n",
       "    <tr>\n",
       "      <td>6685578</td>\n",
       "      <td>ESDIZvGMiFl7MfriZpXEqw</td>\n",
       "      <td>2018-11-13 19:10:37</td>\n",
       "      <td>5.0</td>\n",
       "      <td>Double double! Any day any time. Delicious bur...</td>\n",
       "      <td>In-N-Out Burger</td>\n",
       "      <td>double double day time delicious burger delici...</td>\n",
       "    </tr>\n",
       "    <tr>\n",
       "      <td>6685579</td>\n",
       "      <td>ESDIZvGMiFl7MfriZpXEqw</td>\n",
       "      <td>2018-10-30 08:04:26</td>\n",
       "      <td>5.0</td>\n",
       "      <td>Great experience.  I've visited this location ...</td>\n",
       "      <td>In-N-Out Burger</td>\n",
       "      <td>great experience visited location twice since ...</td>\n",
       "    </tr>\n",
       "    <tr>\n",
       "      <td>6685580</td>\n",
       "      <td>ESDIZvGMiFl7MfriZpXEqw</td>\n",
       "      <td>2018-11-03 18:43:45</td>\n",
       "      <td>5.0</td>\n",
       "      <td>Great burgers and fantastic service at an affo...</td>\n",
       "      <td>In-N-Out Burger</td>\n",
       "      <td>great burger fantastic service affordable pric...</td>\n",
       "    </tr>\n",
       "    <tr>\n",
       "      <td>6685581</td>\n",
       "      <td>ESDIZvGMiFl7MfriZpXEqw</td>\n",
       "      <td>2018-10-20 01:32:13</td>\n",
       "      <td>5.0</td>\n",
       "      <td>Not sure when this location opened but I went ...</td>\n",
       "      <td>In-N-Out Burger</td>\n",
       "      <td>sure location opened went around drive thru or...</td>\n",
       "    </tr>\n",
       "  </tbody>\n",
       "</table>\n",
       "<p>207972 rows × 6 columns</p>\n",
       "</div>"
      ],
      "text/plain": [
       "                    business_id                date stars  \\\n",
       "1336     8mIrX_LrOnAqWsB5JrOojQ 2018-05-08 17:29:19   5.0   \n",
       "1338     8mIrX_LrOnAqWsB5JrOojQ 2018-08-14 03:34:23   5.0   \n",
       "1354     8mIrX_LrOnAqWsB5JrOojQ 2018-08-04 21:29:24   4.0   \n",
       "1356     8mIrX_LrOnAqWsB5JrOojQ 2018-01-09 22:32:37   5.0   \n",
       "1358     8mIrX_LrOnAqWsB5JrOojQ 2018-04-04 13:40:45   4.0   \n",
       "...                         ...                 ...   ...   \n",
       "6685577  ESDIZvGMiFl7MfriZpXEqw 2018-10-20 00:58:20   3.0   \n",
       "6685578  ESDIZvGMiFl7MfriZpXEqw 2018-11-13 19:10:37   5.0   \n",
       "6685579  ESDIZvGMiFl7MfriZpXEqw 2018-10-30 08:04:26   5.0   \n",
       "6685580  ESDIZvGMiFl7MfriZpXEqw 2018-11-03 18:43:45   5.0   \n",
       "6685581  ESDIZvGMiFl7MfriZpXEqw 2018-10-20 01:32:13   5.0   \n",
       "\n",
       "                                                      text  \\\n",
       "1336     Pinball machines are slowly working their way ...   \n",
       "1338     Absolutely cute little pinball joint! So many ...   \n",
       "1354     Nice \"retro\" activity with the kids - I was a ...   \n",
       "1356     My husband and I go to Las Vegas a lot but had...   \n",
       "1358     One of my favorite non-gambling venues to visi...   \n",
       "...                                                    ...   \n",
       "6685577  Noisy and crowded. The school monkeys are a ho...   \n",
       "6685578  Double double! Any day any time. Delicious bur...   \n",
       "6685579  Great experience.  I've visited this location ...   \n",
       "6685580  Great burgers and fantastic service at an affo...   \n",
       "6685581  Not sure when this location opened but I went ...   \n",
       "\n",
       "                         name  \\\n",
       "1336     Pinball Hall Of Fame   \n",
       "1338     Pinball Hall Of Fame   \n",
       "1354     Pinball Hall Of Fame   \n",
       "1356     Pinball Hall Of Fame   \n",
       "1358     Pinball Hall Of Fame   \n",
       "...                       ...   \n",
       "6685577       In-N-Out Burger   \n",
       "6685578       In-N-Out Burger   \n",
       "6685579       In-N-Out Burger   \n",
       "6685580       In-N-Out Burger   \n",
       "6685581       In-N-Out Burger   \n",
       "\n",
       "                                                clean_text  \n",
       "1336     pinball machine slowly working way society gla...  \n",
       "1338     absolutely cute little pinball joint many pinb...  \n",
       "1354     nice retro activity kid little apprehensive fi...  \n",
       "1356     husband la vega lot yet visit pinball hall fam...  \n",
       "1358     one favorite non gambling venue visit town tri...  \n",
       "...                                                    ...  \n",
       "6685577  noisy crowded school monkey hootin hollerin ri...  \n",
       "6685578  double double day time delicious burger delici...  \n",
       "6685579  great experience visited location twice since ...  \n",
       "6685580  great burger fantastic service affordable pric...  \n",
       "6685581  sure location opened went around drive thru or...  \n",
       "\n",
       "[207972 rows x 6 columns]"
      ]
     },
     "execution_count": 28,
     "metadata": {},
     "output_type": "execute_result"
    }
   ],
   "source": [
    "df"
   ]
  },
  {
   "cell_type": "code",
   "execution_count": 24,
   "metadata": {},
   "outputs": [
    {
     "data": {
      "text/plain": [
       "207972"
      ]
     },
     "execution_count": 24,
     "metadata": {},
     "output_type": "execute_result"
    }
   ],
   "source": [
    "len(df)"
   ]
  },
  {
   "cell_type": "code",
   "execution_count": 29,
   "metadata": {},
   "outputs": [
    {
     "data": {
      "text/html": [
       "<div>\n",
       "<style scoped>\n",
       "    .dataframe tbody tr th:only-of-type {\n",
       "        vertical-align: middle;\n",
       "    }\n",
       "\n",
       "    .dataframe tbody tr th {\n",
       "        vertical-align: top;\n",
       "    }\n",
       "\n",
       "    .dataframe thead th {\n",
       "        text-align: right;\n",
       "    }\n",
       "</style>\n",
       "<table border=\"1\" class=\"dataframe\">\n",
       "  <thead>\n",
       "    <tr style=\"text-align: right;\">\n",
       "      <th></th>\n",
       "      <th>business_id</th>\n",
       "      <th>date</th>\n",
       "      <th>stars</th>\n",
       "      <th>text</th>\n",
       "      <th>name</th>\n",
       "      <th>clean_text</th>\n",
       "      <th>month</th>\n",
       "    </tr>\n",
       "  </thead>\n",
       "  <tbody>\n",
       "    <tr>\n",
       "      <td>1336</td>\n",
       "      <td>8mIrX_LrOnAqWsB5JrOojQ</td>\n",
       "      <td>2018-05-08 17:29:19</td>\n",
       "      <td>5.0</td>\n",
       "      <td>Pinball machines are slowly working their way ...</td>\n",
       "      <td>Pinball Hall Of Fame</td>\n",
       "      <td>pinball machine slowly working way society gla...</td>\n",
       "      <td>5</td>\n",
       "    </tr>\n",
       "    <tr>\n",
       "      <td>1338</td>\n",
       "      <td>8mIrX_LrOnAqWsB5JrOojQ</td>\n",
       "      <td>2018-08-14 03:34:23</td>\n",
       "      <td>5.0</td>\n",
       "      <td>Absolutely cute little pinball joint! So many ...</td>\n",
       "      <td>Pinball Hall Of Fame</td>\n",
       "      <td>absolutely cute little pinball joint many pinb...</td>\n",
       "      <td>8</td>\n",
       "    </tr>\n",
       "    <tr>\n",
       "      <td>1354</td>\n",
       "      <td>8mIrX_LrOnAqWsB5JrOojQ</td>\n",
       "      <td>2018-08-04 21:29:24</td>\n",
       "      <td>4.0</td>\n",
       "      <td>Nice \"retro\" activity with the kids - I was a ...</td>\n",
       "      <td>Pinball Hall Of Fame</td>\n",
       "      <td>nice retro activity kid little apprehensive fi...</td>\n",
       "      <td>8</td>\n",
       "    </tr>\n",
       "    <tr>\n",
       "      <td>1356</td>\n",
       "      <td>8mIrX_LrOnAqWsB5JrOojQ</td>\n",
       "      <td>2018-01-09 22:32:37</td>\n",
       "      <td>5.0</td>\n",
       "      <td>My husband and I go to Las Vegas a lot but had...</td>\n",
       "      <td>Pinball Hall Of Fame</td>\n",
       "      <td>husband la vega lot yet visit pinball hall fam...</td>\n",
       "      <td>1</td>\n",
       "    </tr>\n",
       "    <tr>\n",
       "      <td>1358</td>\n",
       "      <td>8mIrX_LrOnAqWsB5JrOojQ</td>\n",
       "      <td>2018-04-04 13:40:45</td>\n",
       "      <td>4.0</td>\n",
       "      <td>One of my favorite non-gambling venues to visi...</td>\n",
       "      <td>Pinball Hall Of Fame</td>\n",
       "      <td>one favorite non gambling venue visit town tri...</td>\n",
       "      <td>4</td>\n",
       "    </tr>\n",
       "    <tr>\n",
       "      <td>...</td>\n",
       "      <td>...</td>\n",
       "      <td>...</td>\n",
       "      <td>...</td>\n",
       "      <td>...</td>\n",
       "      <td>...</td>\n",
       "      <td>...</td>\n",
       "      <td>...</td>\n",
       "    </tr>\n",
       "    <tr>\n",
       "      <td>6685577</td>\n",
       "      <td>ESDIZvGMiFl7MfriZpXEqw</td>\n",
       "      <td>2018-10-20 00:58:20</td>\n",
       "      <td>3.0</td>\n",
       "      <td>Noisy and crowded. The school monkeys are a ho...</td>\n",
       "      <td>In-N-Out Burger</td>\n",
       "      <td>noisy crowded school monkey hootin hollerin ri...</td>\n",
       "      <td>10</td>\n",
       "    </tr>\n",
       "    <tr>\n",
       "      <td>6685578</td>\n",
       "      <td>ESDIZvGMiFl7MfriZpXEqw</td>\n",
       "      <td>2018-11-13 19:10:37</td>\n",
       "      <td>5.0</td>\n",
       "      <td>Double double! Any day any time. Delicious bur...</td>\n",
       "      <td>In-N-Out Burger</td>\n",
       "      <td>double double day time delicious burger delici...</td>\n",
       "      <td>11</td>\n",
       "    </tr>\n",
       "    <tr>\n",
       "      <td>6685579</td>\n",
       "      <td>ESDIZvGMiFl7MfriZpXEqw</td>\n",
       "      <td>2018-10-30 08:04:26</td>\n",
       "      <td>5.0</td>\n",
       "      <td>Great experience.  I've visited this location ...</td>\n",
       "      <td>In-N-Out Burger</td>\n",
       "      <td>great experience visited location twice since ...</td>\n",
       "      <td>10</td>\n",
       "    </tr>\n",
       "    <tr>\n",
       "      <td>6685580</td>\n",
       "      <td>ESDIZvGMiFl7MfriZpXEqw</td>\n",
       "      <td>2018-11-03 18:43:45</td>\n",
       "      <td>5.0</td>\n",
       "      <td>Great burgers and fantastic service at an affo...</td>\n",
       "      <td>In-N-Out Burger</td>\n",
       "      <td>great burger fantastic service affordable pric...</td>\n",
       "      <td>11</td>\n",
       "    </tr>\n",
       "    <tr>\n",
       "      <td>6685581</td>\n",
       "      <td>ESDIZvGMiFl7MfriZpXEqw</td>\n",
       "      <td>2018-10-20 01:32:13</td>\n",
       "      <td>5.0</td>\n",
       "      <td>Not sure when this location opened but I went ...</td>\n",
       "      <td>In-N-Out Burger</td>\n",
       "      <td>sure location opened went around drive thru or...</td>\n",
       "      <td>10</td>\n",
       "    </tr>\n",
       "  </tbody>\n",
       "</table>\n",
       "<p>207972 rows × 7 columns</p>\n",
       "</div>"
      ],
      "text/plain": [
       "                    business_id                date stars  \\\n",
       "1336     8mIrX_LrOnAqWsB5JrOojQ 2018-05-08 17:29:19   5.0   \n",
       "1338     8mIrX_LrOnAqWsB5JrOojQ 2018-08-14 03:34:23   5.0   \n",
       "1354     8mIrX_LrOnAqWsB5JrOojQ 2018-08-04 21:29:24   4.0   \n",
       "1356     8mIrX_LrOnAqWsB5JrOojQ 2018-01-09 22:32:37   5.0   \n",
       "1358     8mIrX_LrOnAqWsB5JrOojQ 2018-04-04 13:40:45   4.0   \n",
       "...                         ...                 ...   ...   \n",
       "6685577  ESDIZvGMiFl7MfriZpXEqw 2018-10-20 00:58:20   3.0   \n",
       "6685578  ESDIZvGMiFl7MfriZpXEqw 2018-11-13 19:10:37   5.0   \n",
       "6685579  ESDIZvGMiFl7MfriZpXEqw 2018-10-30 08:04:26   5.0   \n",
       "6685580  ESDIZvGMiFl7MfriZpXEqw 2018-11-03 18:43:45   5.0   \n",
       "6685581  ESDIZvGMiFl7MfriZpXEqw 2018-10-20 01:32:13   5.0   \n",
       "\n",
       "                                                      text  \\\n",
       "1336     Pinball machines are slowly working their way ...   \n",
       "1338     Absolutely cute little pinball joint! So many ...   \n",
       "1354     Nice \"retro\" activity with the kids - I was a ...   \n",
       "1356     My husband and I go to Las Vegas a lot but had...   \n",
       "1358     One of my favorite non-gambling venues to visi...   \n",
       "...                                                    ...   \n",
       "6685577  Noisy and crowded. The school monkeys are a ho...   \n",
       "6685578  Double double! Any day any time. Delicious bur...   \n",
       "6685579  Great experience.  I've visited this location ...   \n",
       "6685580  Great burgers and fantastic service at an affo...   \n",
       "6685581  Not sure when this location opened but I went ...   \n",
       "\n",
       "                         name  \\\n",
       "1336     Pinball Hall Of Fame   \n",
       "1338     Pinball Hall Of Fame   \n",
       "1354     Pinball Hall Of Fame   \n",
       "1356     Pinball Hall Of Fame   \n",
       "1358     Pinball Hall Of Fame   \n",
       "...                       ...   \n",
       "6685577       In-N-Out Burger   \n",
       "6685578       In-N-Out Burger   \n",
       "6685579       In-N-Out Burger   \n",
       "6685580       In-N-Out Burger   \n",
       "6685581       In-N-Out Burger   \n",
       "\n",
       "                                                clean_text  month  \n",
       "1336     pinball machine slowly working way society gla...      5  \n",
       "1338     absolutely cute little pinball joint many pinb...      8  \n",
       "1354     nice retro activity kid little apprehensive fi...      8  \n",
       "1356     husband la vega lot yet visit pinball hall fam...      1  \n",
       "1358     one favorite non gambling venue visit town tri...      4  \n",
       "...                                                    ...    ...  \n",
       "6685577  noisy crowded school monkey hootin hollerin ri...     10  \n",
       "6685578  double double day time delicious burger delici...     11  \n",
       "6685579  great experience visited location twice since ...     10  \n",
       "6685580  great burger fantastic service affordable pric...     11  \n",
       "6685581  sure location opened went around drive thru or...     10  \n",
       "\n",
       "[207972 rows x 7 columns]"
      ]
     },
     "execution_count": 29,
     "metadata": {},
     "output_type": "execute_result"
    }
   ],
   "source": [
    "df['month'] = df['date'].dt.month\n",
    "df"
   ]
  },
  {
   "cell_type": "markdown",
   "metadata": {},
   "source": [
    "# Analysis of 3 best rated and popular restaurants in Las Vegas in 2018"
   ]
  },
  {
   "cell_type": "code",
   "execution_count": 190,
   "metadata": {},
   "outputs": [
    {
     "data": {
      "text/plain": [
       "4292"
      ]
     },
     "execution_count": 190,
     "metadata": {},
     "output_type": "execute_result"
    }
   ],
   "source": [
    "# Total no of businesses\n",
    "df['business_id'].nunique()"
   ]
  },
  {
   "cell_type": "code",
   "execution_count": 191,
   "metadata": {},
   "outputs": [
    {
     "name": "stdout",
     "output_type": "stream",
     "text": [
      "Top 3 Businesses in Yelp\n"
     ]
    },
    {
     "data": {
      "text/html": [
       "<div>\n",
       "<style scoped>\n",
       "    .dataframe tbody tr th:only-of-type {\n",
       "        vertical-align: middle;\n",
       "    }\n",
       "\n",
       "    .dataframe tbody tr th {\n",
       "        vertical-align: top;\n",
       "    }\n",
       "\n",
       "    .dataframe thead tr th {\n",
       "        text-align: left;\n",
       "    }\n",
       "\n",
       "    .dataframe thead tr:last-of-type th {\n",
       "        text-align: right;\n",
       "    }\n",
       "</style>\n",
       "<table border=\"1\" class=\"dataframe\">\n",
       "  <thead>\n",
       "    <tr>\n",
       "      <th></th>\n",
       "      <th>business_id</th>\n",
       "      <th>stars</th>\n",
       "    </tr>\n",
       "    <tr>\n",
       "      <th></th>\n",
       "      <th>count</th>\n",
       "      <th>mean</th>\n",
       "    </tr>\n",
       "    <tr>\n",
       "      <th>name</th>\n",
       "      <th></th>\n",
       "      <th></th>\n",
       "    </tr>\n",
       "  </thead>\n",
       "  <tbody>\n",
       "    <tr>\n",
       "      <td>Gordon Ramsay Hell's Kitchen</td>\n",
       "      <td>2074</td>\n",
       "      <td>4.362584</td>\n",
       "    </tr>\n",
       "    <tr>\n",
       "      <td>Nacho Daddy</td>\n",
       "      <td>1553</td>\n",
       "      <td>4.331616</td>\n",
       "    </tr>\n",
       "    <tr>\n",
       "      <td>Hash House A Go Go</td>\n",
       "      <td>1460</td>\n",
       "      <td>3.922603</td>\n",
       "    </tr>\n",
       "  </tbody>\n",
       "</table>\n",
       "</div>"
      ],
      "text/plain": [
       "                             business_id     stars\n",
       "                                   count      mean\n",
       "name                                              \n",
       "Gordon Ramsay Hell's Kitchen        2074  4.362584\n",
       "Nacho Daddy                         1553  4.331616\n",
       "Hash House A Go Go                  1460  3.922603"
      ]
     },
     "execution_count": 191,
     "metadata": {},
     "output_type": "execute_result"
    }
   ],
   "source": [
    "busDf = df\n",
    "busDf['stars'] = df['stars'].astype(int)\n",
    "buss_agg = busDf.groupby('name').agg({'business_id':['count'], 'stars':['mean']})\n",
    "buss_agg = buss_agg.sort_values([('business_id','count'), ('stars','mean')],ascending=[False, False])\n",
    "print(\"Top 3 Businesses in Yelp\")\n",
    "buss_agg = buss_agg.head(3)\n",
    "buss_agg"
   ]
  },
  {
   "cell_type": "code",
   "execution_count": 192,
   "metadata": {},
   "outputs": [],
   "source": [
    "top3BussList = [\"Gordon Ramsay Hell's Kitchen\", \"Nacho Daddy\", \"Hash House A Go Go\"]\n",
    "top3 = df[df.name.isin(top3BussList)]\n",
    "\n",
    "# Calculate sentiment scores for each business review \n",
    "top3 = top3.reset_index()\n",
    "polarity = [0.0]*len(top3)\n",
    "subjectivity = [0.5]*len(top3)\n",
    "sentiment = [\"\"]*len(top3)\n",
    "\n",
    "for i in top3.index:\n",
    "    blob = TextBlob(top3.clean_text[i])\n",
    "    polarity[i] = blob.polarity\n",
    "    subjectivity[i] = blob.subjectivity\n",
    "    if polarity[i] > 0.0:\n",
    "        sentiment[i] = \"pos\"\n",
    "    elif polarity[i] < 0.0:\n",
    "        sentiment[i] = \"neg\"\n",
    "    else:\n",
    "        sentiment[i] = \"neu\"\n",
    "\n",
    "top3[\"sentiment\"]    = sentiment\n",
    "top3[\"polarity\"]     = polarity\n",
    "top3[\"subjectivity\"] = subjectivity"
   ]
  },
  {
   "cell_type": "markdown",
   "metadata": {},
   "source": [
    "### Reviews posted over time "
   ]
  },
  {
   "cell_type": "code",
   "execution_count": 193,
   "metadata": {},
   "outputs": [
    {
     "data": {
      "image/png": "[encoded data removed]",
      "text/plain": [
       "<Figure size 1440x720 with 1 Axes>"
      ]
     },
     "metadata": {
      "needs_background": "light"
     },
     "output_type": "display_data"
    }
   ],
   "source": [
    "def getDateCounts(name):\n",
    "    temp = top3[top3.name == name]\n",
    "    size = temp.groupby('month').size()\n",
    "    return size\n",
    "\n",
    "plt.figure(figsize=(20,10))\n",
    "\n",
    "for i in range(0,3):\n",
    "    getDateCounts(top3BussList[i]).plot(label=top3BussList[i])\n",
    "\n",
    "plt.xticks(rotation=70, fontsize=15)\n",
    "plt.yticks(fontsize=15)\n",
    "plt.xlabel('Months in 2018', fontsize=15)\n",
    "plt.ylabel('Reviews', fontsize=15)\n",
    "plt.legend(prop={'size':15})\n",
    "plt.title('Reviews posted over time', fontsize=25)\n",
    "plt.show()"
   ]
  },
  {
   "cell_type": "markdown",
   "metadata": {},
   "source": [
    "### Polarity distribution for 3 restaurants"
   ]
  },
  {
   "cell_type": "code",
   "execution_count": 194,
   "metadata": {},
   "outputs": [
    {
     "data": {
      "image/png": "[encoded data removed]",
      "text/plain": [
       "<Figure size 1080x720 with 2 Axes>"
      ]
     },
     "metadata": {
      "needs_background": "light"
     },
     "output_type": "display_data"
    }
   ],
   "source": [
    "def getDataForPolarityGraph(name):\n",
    "    temp = top3[top3.name == name]\n",
    "    data = temp[(temp.polarity >= 0.05) | (temp.polarity <= -0.05)]\n",
    "    return data[\"polarity\"]\n",
    "\n",
    "plt.figure(figsize=(15,10))\n",
    "plt.subplot(211)\n",
    "for i in range(0,3):\n",
    "    sns.distplot(getDataForPolarityGraph(top3BussList[i]), kde=False, hist=True, label=top3BussList[i])\n",
    "plt.legend(prop={\"size\": 12})\n",
    "plt.title(\"Sentiment Polarity of Three Restaurants\")\n",
    "plt.ylabel(\"Reviews Count\")\n",
    "\n",
    "plt.subplot(212)\n",
    "for i in range(0,3):\n",
    "    sns.distplot(getDataForPolarityGraph(top3BussList[i]), kde=True, hist=False, label=top3BussList[i])\n",
    "plt.legend(prop={\"size\": 12})\n",
    "plt.title(\"Sentiment Polarity of Three Restaurants\")\n",
    "plt.ylabel(\"Reviews Count\")\n",
    "\n",
    "plt.show()"
   ]
  },
  {
   "cell_type": "markdown",
   "metadata": {},
   "source": [
    "### Overall sentiments polarity for 3 restaurants"
   ]
  },
  {
   "cell_type": "code",
   "execution_count": 195,
   "metadata": {},
   "outputs": [
    {
     "data": {
      "text/html": [
       "<div>\n",
       "<style scoped>\n",
       "    .dataframe tbody tr th:only-of-type {\n",
       "        vertical-align: middle;\n",
       "    }\n",
       "\n",
       "    .dataframe tbody tr th {\n",
       "        vertical-align: top;\n",
       "    }\n",
       "\n",
       "    .dataframe thead th {\n",
       "        text-align: right;\n",
       "    }\n",
       "</style>\n",
       "<table border=\"1\" class=\"dataframe\">\n",
       "  <thead>\n",
       "    <tr style=\"text-align: right;\">\n",
       "      <th></th>\n",
       "      <th>Restaurants</th>\n",
       "      <th>sentiment</th>\n",
       "      <th>size</th>\n",
       "      <th>negative</th>\n",
       "      <th>positive</th>\n",
       "      <th>perc_negative</th>\n",
       "      <th>perc_positive</th>\n",
       "    </tr>\n",
       "  </thead>\n",
       "  <tbody>\n",
       "    <tr>\n",
       "      <td>0</td>\n",
       "      <td>Gordon Ramsay Hell's Kitchen</td>\n",
       "      <td>0.300824</td>\n",
       "      <td>2074</td>\n",
       "      <td>157</td>\n",
       "      <td>1899</td>\n",
       "      <td>0.076362</td>\n",
       "      <td>0.923638</td>\n",
       "    </tr>\n",
       "    <tr>\n",
       "      <td>1</td>\n",
       "      <td>Nacho Daddy</td>\n",
       "      <td>0.305656</td>\n",
       "      <td>1553</td>\n",
       "      <td>91</td>\n",
       "      <td>1455</td>\n",
       "      <td>0.058862</td>\n",
       "      <td>0.941138</td>\n",
       "    </tr>\n",
       "    <tr>\n",
       "      <td>2</td>\n",
       "      <td>Hash House A Go Go</td>\n",
       "      <td>0.191344</td>\n",
       "      <td>1460</td>\n",
       "      <td>78</td>\n",
       "      <td>1373</td>\n",
       "      <td>0.053756</td>\n",
       "      <td>0.946244</td>\n",
       "    </tr>\n",
       "  </tbody>\n",
       "</table>\n",
       "</div>"
      ],
      "text/plain": [
       "                    Restaurants  sentiment  size  negative  positive  \\\n",
       "0  Gordon Ramsay Hell's Kitchen   0.300824  2074       157      1899   \n",
       "1                   Nacho Daddy   0.305656  1553        91      1455   \n",
       "2            Hash House A Go Go   0.191344  1460        78      1373   \n",
       "\n",
       "   perc_negative  perc_positive  \n",
       "0       0.076362       0.923638  \n",
       "1       0.058862       0.941138  \n",
       "2       0.053756       0.946244  "
      ]
     },
     "execution_count": 195,
     "metadata": {},
     "output_type": "execute_result"
    }
   ],
   "source": [
    "sentiment = []\n",
    "size = []\n",
    "negative = []\n",
    "positive= []\n",
    "perc_negative = []\n",
    "perc_positive = []\n",
    "\n",
    "for i in range(0,3):\n",
    "    temp = top3[top3.name == top3BussList[i]]\n",
    "    \n",
    "    sentiment.append(TextBlob(' '.join(temp['clean_text'].values)).sentiment.polarity)\n",
    "    size.append(temp.business_id.count())\n",
    "    negative_c = len(temp[temp.polarity < 0])\n",
    "    positive_c = len(temp[temp.polarity > 0])\n",
    "    negative.append(negative_c)\n",
    "    positive.append(positive_c)\n",
    "    perc_positive.append(positive_c/(positive_c + negative_c))\n",
    "    perc_negative.append(negative_c/(positive_c + negative_c))\n",
    "\n",
    "data = pd.DataFrame({'Restaurants':top3BussList, 'sentiment':sentiment, 'size': size, 'negative': negative,\n",
    "                     'positive': positive, 'perc_negative': perc_negative, 'perc_positive': perc_positive })\n",
    "data"
   ]
  },
  {
   "cell_type": "code",
   "execution_count": 196,
   "metadata": {},
   "outputs": [
    {
     "data": {
      "image/png": "[encoded data removed]",
      "text/plain": [
       "<Figure size 1080x360 with 2 Axes>"
      ]
     },
     "metadata": {
      "needs_background": "light"
     },
     "output_type": "display_data"
    }
   ],
   "source": [
    "plt.figure(figsize=(15,5))\n",
    "plt.subplot(121)\n",
    "plt.bar(data['Restaurants'], data['sentiment'],color=['lightskyblue','moccasin','yellowgreen'])\n",
    "plt.title('Sentiments polarity per restaurant', fontsize=15)\n",
    "\n",
    "plt.subplot(122)\n",
    "plt.bar(data['Restaurants'], data['size'], color=['lightskyblue','moccasin','yellowgreen'])\n",
    "plt.xlabel('Restaurants')\n",
    "plt.ylabel('Reviews counts')\n",
    "plt.title('Reviews per restaurant', fontsize=15)\n",
    "plt.show()"
   ]
  },
  {
   "cell_type": "markdown",
   "metadata": {},
   "source": [
    "### Positve VS. Negative reviews percentage for 3 restaurants"
   ]
  },
  {
   "cell_type": "code",
   "execution_count": 197,
   "metadata": {},
   "outputs": [
    {
     "data": {
      "image/png": "[encoded data removed]",
      "text/plain": [
       "<Figure size 720x432 with 1 Axes>"
      ]
     },
     "metadata": {
      "needs_background": "light"
     },
     "output_type": "display_data"
    }
   ],
   "source": [
    "plt.figure(figsize=(10,6))\n",
    "p1 = plt.bar(data['Restaurants'], data['perc_negative'], color='r',label='negative',alpha=0.5)\n",
    "p2 = plt.bar(data['Restaurants'], data['perc_positive'], bottom=data['perc_negative'], color='g', label='positive',alpha=0.5)\n",
    "plt.legend()\n",
    "plt.xticks(fontsize=15)\n",
    "plt.title('Positve vs. Negative reviews per restaurant', fontsize=20)\n",
    "plt.show()"
   ]
  },
  {
   "cell_type": "raw",
   "metadata": {},
   "source": [
    "df.head(1000).to_csv('Temp.csv',index=False,encoding='utf-8')"
   ]
  },
  {
   "cell_type": "markdown",
   "metadata": {},
   "source": [
    "### Frequent words in positive and negative reviews for each restaurant"
   ]
  },
  {
   "cell_type": "code",
   "execution_count": 198,
   "metadata": {},
   "outputs": [
    {
     "data": {
      "text/html": [
       "<div>\n",
       "<style scoped>\n",
       "    .dataframe tbody tr th:only-of-type {\n",
       "        vertical-align: middle;\n",
       "    }\n",
       "\n",
       "    .dataframe tbody tr th {\n",
       "        vertical-align: top;\n",
       "    }\n",
       "\n",
       "    .dataframe thead th {\n",
       "        text-align: right;\n",
       "    }\n",
       "</style>\n",
       "<table border=\"1\" class=\"dataframe\">\n",
       "  <thead>\n",
       "    <tr style=\"text-align: right;\">\n",
       "      <th></th>\n",
       "      <th>Restaurants</th>\n",
       "      <th>Frequent words in positive reviews</th>\n",
       "      <th>Frequent words in negative reviews</th>\n",
       "    </tr>\n",
       "  </thead>\n",
       "  <tbody>\n",
       "    <tr>\n",
       "      <td>0</td>\n",
       "      <td>Gordon Ramsay Hell's Kitchen</td>\n",
       "      <td>food, kitchen, wellington, beef, restaurant</td>\n",
       "      <td>food, restaurant, kitchen, like, service</td>\n",
       "    </tr>\n",
       "    <tr>\n",
       "      <td>1</td>\n",
       "      <td>Nacho Daddy</td>\n",
       "      <td>nacho, food, great, good, place</td>\n",
       "      <td>nacho, food, great, good, time</td>\n",
       "    </tr>\n",
       "    <tr>\n",
       "      <td>2</td>\n",
       "      <td>Hash House A Go Go</td>\n",
       "      <td>food, chicken, good, portion, place</td>\n",
       "      <td>food, chicken, good, place, great</td>\n",
       "    </tr>\n",
       "  </tbody>\n",
       "</table>\n",
       "</div>"
      ],
      "text/plain": [
       "                    Restaurants           Frequent words in positive reviews  \\\n",
       "0  Gordon Ramsay Hell's Kitchen  food, kitchen, wellington, beef, restaurant   \n",
       "1                   Nacho Daddy              nacho, food, great, good, place   \n",
       "2            Hash House A Go Go          food, chicken, good, portion, place   \n",
       "\n",
       "         Frequent words in negative reviews  \n",
       "0  food, restaurant, kitchen, like, service  \n",
       "1            nacho, food, great, good, time  \n",
       "2         food, chicken, good, place, great  "
      ]
     },
     "execution_count": 198,
     "metadata": {},
     "output_type": "execute_result"
    }
   ],
   "source": [
    "from collections import Counter\n",
    "import nltk\n",
    "\n",
    "def get5CommonWords(text):\n",
    "    words = nltk.tokenize.word_tokenize(text)\n",
    "    most_occur = Counter(words).most_common(5)\n",
    "    word,count = zip(*most_occur)\n",
    "    return ', '.join(word)\n",
    "\n",
    "positive_freq_words = []\n",
    "negative_freq_words = []\n",
    "for i in range(0,3):\n",
    "    temp = top3[top3.name == top3BussList[i]]\n",
    "    positive_freq_words.append(get5CommonWords(' '.join(temp[temp['sentiment']=='pos']['clean_text'].values)))\n",
    "    negative_freq_words.append(get5CommonWords(' '.join(temp[temp['sentiment']=='neg']['clean_text'].values)))\n",
    "\n",
    "data = pd.DataFrame({'Restaurants':top3BussList, \n",
    "                     'Frequent words in positive reviews':positive_freq_words,\n",
    "                     'Frequent words in negative reviews': negative_freq_words})\n",
    "data"
   ]
  },
  {
   "cell_type": "markdown",
   "metadata": {},
   "source": [
    "### Topic Modelling"
   ]
  },
  {
   "cell_type": "code",
   "execution_count": 199,
   "metadata": {},
   "outputs": [],
   "source": [
    "from gensim.corpora import Dictionary\n",
    "from gensim.models import LdaModel\n",
    "from gensim.models import TfidfModel\n",
    "import nltk"
   ]
  },
  {
   "cell_type": "code",
   "execution_count": 200,
   "metadata": {},
   "outputs": [],
   "source": [
    "# Convert to list\n",
    "def topicKeywords(df):\n",
    "    tokens = []\n",
    "    for i, row in df.iterrows():\n",
    "        text = row[\"clean_text\"]\n",
    "        words = text.split()\n",
    "        words = [w for w in words if w.isalpha() and len(w)>2]\n",
    "        # only screen out NOUN words\n",
    "        uni_pos = nltk.pos_tag(words, tagset='universal')\n",
    "        words = [w[0] for w in uni_pos if w[1]=='NOUN']\n",
    "        tokens.append(words)\n",
    "\n",
    "    my_dict = Dictionary(tokens)\n",
    "    my_dict.filter_extremes(no_below=5, no_above=0.85)\n",
    "   \n",
    "    # Count Vectorization\n",
    "    dtm = [my_dict.doc2bow(doc) for doc in tokens]\n",
    "    \n",
    "    # TF-IDF Vectorization\n",
    "    tfidf = TfidfModel(dtm)\n",
    "    tfidf = tfidf[dtm]\n",
    "\n",
    "    lda_model = LdaModel(tfidf, num_topics=3, id2word=my_dict, passes=10)\n",
    "    return lda_model"
   ]
  },
  {
   "cell_type": "code",
   "execution_count": 201,
   "metadata": {},
   "outputs": [
    {
     "name": "stdout",
     "output_type": "stream",
     "text": [
      "Gordon Ramsay Hell's Kitchen - pos\n",
      "Topic 1 :  toffee, time, reservation, wellington, everything, beef, service, place, dessert, dinner\n",
      "Topic 2 :  show, restaurant, hell, experience, food, beef, wellington, service, gordon, kitchen\n",
      "Topic 3 :  food, service, experience, staff, place, nothing, water, amazing, awesome, lunch\n",
      "----------\n",
      "Gordon Ramsay Hell's Kitchen - neg\n",
      "Topic 1 :  restaurant, wellington, menu, show, reservation, beef, toffee, hell, course, kitchen\n",
      "Topic 2 :  everything, price, wow, service, waiter, quality, tasty, people, food, bartender\n",
      "Topic 3 :  john, michelle, thank, experience, wife, winner, care, hell, season, picture\n",
      "----------\n",
      "Nacho Daddy - pos\n",
      "Topic 1 :  vegan, food, place, chicken, service, margarita, chip, portion, menu, time\n",
      "Topic 2 :  margarita, food, service, nacho, drink, place, time, staff, order, filet\n",
      "Topic 3 :  place, food, service, taco, vega, everything, scorpion, music, time, thing\n",
      "----------\n",
      "Nacho Daddy - neg\n",
      "Topic 1 :  service, chip, food, bar, taco, waitress, margarita, try, lot, crab\n",
      "Topic 2 :  time, food, server, wait, menu, plate, daddy, husband, check, manager\n",
      "Topic 3 :  vegan, filet, place, order, staff, option, lunch, drink, mignon, strip\n",
      "----------\n",
      "Hash House A Go Go - pos\n",
      "Topic 1 :  price, chicken, portion, hash, food, service, breakfast, place, egg, waffle\n",
      "Topic 2 :  chicken, place, waffle, food, portion, time, service, wait, vega, meal\n",
      "Topic 3 :  location, time, breakfast, place, food, service, order, experience, portion, coffee\n",
      "----------\n",
      "Hash House A Go Go - neg\n",
      "Topic 1 :  lot, server, size, dish, location, split, get, day, restaurant, experience\n",
      "Topic 2 :  chicken, waffle, vega, portion, food, service, place, plate, price, wait\n",
      "Topic 3 :  time, hash, biscuit, egg, line, menu, benedict, waitress, beef, eat\n",
      "----------\n"
     ]
    }
   ],
   "source": [
    "sentiment = ['pos', 'neg']\n",
    "for i in range(0,3):\n",
    "    temp = top3[top3.name == top3BussList[i]]\n",
    "    for s in sentiment:\n",
    "        model = topicKeywords(temp[temp['sentiment']==s])\n",
    "        print(temp.name.values[0], '-', s)\n",
    "        for i in range(3):\n",
    "            wp = model.show_topic(i)\n",
    "            topic_keywords = \", \".join([word for word, prop in wp])\n",
    "            print('Topic',i+1, ': ', topic_keywords)\n",
    "        print('----------')"
   ]
  },
  {
   "cell_type": "markdown",
   "metadata": {},
   "source": [
    "# Rating prediction"
   ]
  },
  {
   "cell_type": "code",
   "execution_count": 202,
   "metadata": {},
   "outputs": [
    {
     "data": {
      "text/plain": [
       "stars\n",
       "1     28128\n",
       "2     15085\n",
       "3     19716\n",
       "4     38004\n",
       "5    107039\n",
       "Name: clean_text, dtype: int64"
      ]
     },
     "execution_count": 202,
     "metadata": {},
     "output_type": "execute_result"
    }
   ],
   "source": [
    "from sklearn.metrics import accuracy_score, precision_score, recall_score\n",
    "from sklearn.metrics import confusion_matrix, classification_report\n",
    "df.groupby('stars').clean_text.count()"
   ]
  },
  {
   "cell_type": "code",
   "execution_count": 203,
   "metadata": {},
   "outputs": [],
   "source": [
    "# Split data into train and test and create TF-IDF vectorizer\n",
    "from sklearn.model_selection import train_test_split\n",
    "from sklearn.preprocessing import LabelEncoder\n",
    "\n",
    "train_x, test_x, train_y, test_y = train_test_split(df['clean_text'], df['stars'], test_size=0.3, random_state=42)\n",
    "encoder = LabelEncoder()\n",
    "train_y = encoder.fit_transform(train_y)\n",
    "test_y = encoder.fit_transform(test_y)"
   ]
  },
  {
   "cell_type": "markdown",
   "metadata": {},
   "source": [
    "The text needs to be transformed to vectors so as the algorithms will be able make predictions. We will use the Term Frequency – Inverse Document Frequency (TFIDF) weight to evaluate how important a word is to a document in a collection of documents"
   ]
  },
  {
   "cell_type": "code",
   "execution_count": 204,
   "metadata": {},
   "outputs": [],
   "source": [
    "from sklearn.feature_extraction.text import TfidfVectorizer\n",
    "tfidf_vect = TfidfVectorizer(analyzer='word', token_pattern=r'\\w{1,}', max_features=5000)\n",
    "tfidf_vect.fit(df['clean_text'])\n",
    "xtrain_tfidf =  tfidf_vect.transform(train_x)\n",
    "xtest_tfidf =  tfidf_vect.transform(test_x)"
   ]
  },
  {
   "cell_type": "code",
   "execution_count": 228,
   "metadata": {},
   "outputs": [],
   "source": [
    "df['topic_id'] = df['stars'].factorize()[0]\n",
    "topic_id_df = df[['stars', 'topic_id']].drop_duplicates().sort_values('topic_id')\n",
    "topic_to_id = dict(topic_id_df.values)\n",
    "id_to_topic = dict(topic_id_df[['topic_id', 'stars']].values)"
   ]
  },
  {
   "cell_type": "markdown",
   "metadata": {},
   "source": [
    "### Naive Bayes, Random Forests, Neural Network"
   ]
  },
  {
   "cell_type": "markdown",
   "metadata": {},
   "source": [
    "#### Model Training Time Comparison"
   ]
  },
  {
   "cell_type": "code",
   "execution_count": 210,
   "metadata": {},
   "outputs": [
    {
     "name": "stdout",
     "output_type": "stream",
     "text": [
      "Elapsed clock time:  0.0018860141436258951  minutes\n"
     ]
    }
   ],
   "source": [
    "# Naive Bayes Classifier with default parameters\n",
    "from sklearn.naive_bayes import MultinomialNB\n",
    "start_time = time.time() \n",
    "nbModel = MultinomialNB()\n",
    "nbModel.fit(xtrain_tfidf, train_y)  \n",
    "nb_predict_y = nbModel.predict(xtest_tfidf)\n",
    "nb_accuracy = accuracy_score(test_y, nb_predict_y)\n",
    "print('Elapsed clock time: ', (time.time() - start_time)/60, ' minutes')"
   ]
  },
  {
   "cell_type": "code",
   "execution_count": 206,
   "metadata": {},
   "outputs": [
    {
     "name": "stdout",
     "output_type": "stream",
     "text": [
      "Elapsed clock time:  0.2847883797354168  seconds\n"
     ]
    }
   ],
   "source": [
    "# Random Forest (Bagging Model) Classifier\n",
    "from sklearn.ensemble import RandomForestClassifier\n",
    "start_time = time.time() \n",
    "rfModel = RandomForestClassifier(n_estimators=100, max_depth=None, min_samples_split=2)\n",
    "rfModel.fit(xtrain_tfidf, train_y)  \n",
    "rf_predict_y = rfModel.predict(xtest_tfidf)\n",
    "rf_accuracy = accuracy_score(test_y, rf_predict_y)\n",
    "print('Elapsed clock time: ', (time.time() - start_time)/60, ' minutes')"
   ]
  },
  {
   "cell_type": "code",
   "execution_count": 215,
   "metadata": {},
   "outputs": [
    {
     "name": "stdout",
     "output_type": "stream",
     "text": [
      "Elapsed clock time:  5.904845666885376  minutes\n"
     ]
    }
   ],
   "source": [
    "# Neural Network Classifier\n",
    "\n",
    "# hidden_layer_sizes : The ith element represents the number of neurons in the ith hidden layer.\n",
    "# learning_rate : {‘constant’, ‘invscaling’, ‘adaptive’}, default ‘constant’. \n",
    "# 'adaptive’ keeps the learning rate constant to ‘learning_rate_init’ as long as training loss keeps decreasing.\n",
    "\n",
    "from sklearn.neural_network import MLPClassifier\n",
    "start_time = time.time() \n",
    "nnModel = MLPClassifier(alpha = 1, hidden_layer_sizes=(15,7), learning_rate='adaptive')\n",
    "nnModel.fit(xtrain_tfidf, train_y)  \n",
    "nn_predict_y = nnModel.predict(xtest_tfidf)\n",
    "nn_accuracy = accuracy_score(test_y, nn_predict_y)\n",
    "print('Elapsed clock time: ', (time.time() - start_time)/60, ' minutes')"
   ]
  },
  {
   "cell_type": "markdown",
   "metadata": {},
   "source": [
    "#### Model Accuracy Comparision"
   ]
  },
  {
   "cell_type": "code",
   "execution_count": 216,
   "metadata": {},
   "outputs": [
    {
     "name": "stdout",
     "output_type": "stream",
     "text": [
      "Naive Bayes: 0.647\n",
      "Random Forests: 0.650\n",
      "Neural Network: 0.693\n"
     ]
    }
   ],
   "source": [
    "print('Naive Bayes: {:.3f}'.format(nb_accuracy))\n",
    "print('Random Forests: {:.3f}'.format(rf_accuracy))\n",
    "print('Neural Network: {:.3f}'.format(nn_accuracy))"
   ]
  },
  {
   "cell_type": "markdown",
   "metadata": {},
   "source": [
    "Classification accuracy is simply the number of correct predictions divided by all predictions or a ratio of correct predictions to total predictions. From the results, it seems like all the classifiers are performing well. Neural Network has the highest accuracy amongst all the three classifiers.\n",
    "\n",
    "Now let's plot the confusion matrix for all the three classifiers"
   ]
  },
  {
   "cell_type": "code",
   "execution_count": null,
   "metadata": {},
   "outputs": [],
   "source": []
  },
  {
   "cell_type": "markdown",
   "metadata": {},
   "source": [
    "#### Confusion Matrix"
   ]
  },
  {
   "cell_type": "code",
   "execution_count": 281,
   "metadata": {},
   "outputs": [
    {
     "data": {
      "image/png": "[encoded data removed]",
      "text/plain": [
       "<Figure size 1440x360 with 6 Axes>"
      ]
     },
     "metadata": {
      "needs_background": "light"
     },
     "output_type": "display_data"
    }
   ],
   "source": [
    "labels = [1,2,3,4,5]\n",
    "nb = confusion_matrix(test_y, nbModel.predict(xtest_tfidf))\n",
    "rf = confusion_matrix(test_y, rfModel.predict(xtest_tfidf))\n",
    "nn = confusion_matrix(test_y, nnModel.predict(xtest_tfidf))\n",
    "\n",
    "plt.figure(figsize=(20,5))\n",
    "plt.subplot(131)\n",
    "sns.heatmap(nb, annot=True, fmt='d', cmap=\"BuPu\", xticklabels=labels, yticklabels=labels)\n",
    "plt.title('Naive Bayes - Confusion Matrix')\n",
    "\n",
    "plt.subplot(132)\n",
    "sns.heatmap(rf, annot=True, fmt='d', cmap=\"BuPu\", xticklabels=labels, yticklabels=labels)\n",
    "plt.title('Random Forests - Confusion Matrix')\n",
    "\n",
    "plt.subplot(133)\n",
    "sns.heatmap(nn, annot=True, fmt='d', cmap=\"BuPu\", xticklabels=labels, yticklabels=labels)\n",
    "plt.title('Neural Network - Confusion Matrix')\n",
    "\n",
    "plt.show()"
   ]
  },
  {
   "cell_type": "markdown",
   "metadata": {},
   "source": [
    "Number of correct predictions for each class run on the diagonal from top-left to bottom-right.\n",
    "We can use this to compare how different models are correctly predicting a topic compared to others.\n",
    "\n",
    "For example:\n",
    "    - Random forests correctly identified/predicted shipping 167 times. Apart from that 2 times it predicted the topic incorrectly as product availabiliy and product specifications, and 1 time as omnichannel\n",
    "    \n",
    "    - Naive  bayes correctly  identified/predicted shipping 162 times. Apart from that 2 times it predicted the topic incorrectly as product availabiliy, 4 times as product specifications and omnichannel.\n",
    "    \n",
    "    - Neural Network correctly  identified/predicted shipping 164 times. Apart from that 4 times it predicted the topic incorrectly as product availabiliy, 3 times product specifications, and 1 time as omnichannel\n",
    "    \n",
    "Similiarly we can compare the results for other topics. "
   ]
  },
  {
   "cell_type": "markdown",
   "metadata": {},
   "source": [
    "#### Evaluating other metrics using classification report"
   ]
  },
  {
   "cell_type": "code",
   "execution_count": 233,
   "metadata": {},
   "outputs": [
    {
     "name": "stdout",
     "output_type": "stream",
     "text": [
      "Naive Bayes:\n",
      "              precision    recall  f1-score   support\n",
      "\n",
      "           0       0.65      0.78      0.71      8538\n",
      "           1       0.39      0.06      0.10      4435\n",
      "           2       0.40      0.11      0.17      6005\n",
      "           3       0.41      0.14      0.21     11444\n",
      "           4       0.68      0.97      0.80     31970\n",
      "\n",
      "    accuracy                           0.65     62392\n",
      "   macro avg       0.51      0.41      0.40     62392\n",
      "weighted avg       0.58      0.65      0.57     62392\n",
      "\n",
      "-----------------------------------------------------------------\n",
      "Random Forests\n",
      "              precision    recall  f1-score   support\n",
      "\n",
      "           0       0.65      0.81      0.72      8538\n",
      "           1       0.46      0.03      0.06      4435\n",
      "           2       0.50      0.11      0.18      6005\n",
      "           3       0.44      0.14      0.22     11444\n",
      "           4       0.67      0.98      0.80     31970\n",
      "\n",
      "    accuracy                           0.65     62392\n",
      "   macro avg       0.54      0.41      0.39     62392\n",
      "weighted avg       0.59      0.65      0.57     62392\n",
      "\n",
      "-----------------------------------------------------------------\n",
      "Neural Network\n",
      "              precision    recall  f1-score   support\n",
      "\n",
      "           0       0.65      0.88      0.75      8538\n",
      "           1       0.43      0.03      0.06      4435\n",
      "           2       0.45      0.32      0.37      6005\n",
      "           3       0.49      0.31      0.38     11444\n",
      "           4       0.77      0.94      0.85     31970\n",
      "\n",
      "    accuracy                           0.69     62392\n",
      "   macro avg       0.56      0.50      0.48     62392\n",
      "weighted avg       0.65      0.69      0.65     62392\n",
      "\n"
     ]
    }
   ],
   "source": [
    "print('Naive Bayes:')\n",
    "print(classification_report(test_y, nbModel.predict(xtest_tfidf)))\n",
    "print('-----------------------------------------------------------------')\n",
    "print('Random Forests')\n",
    "print(classification_report(test_y, rfModel.predict(xtest_tfidf)))\n",
    "print('-----------------------------------------------------------------')\n",
    "print('Neural Network')\n",
    "print(classification_report(test_y, nnModel.predict(xtest_tfidf)))"
   ]
  },
  {
   "cell_type": "markdown",
   "metadata": {},
   "source": [
    "- Precision is the ability of a classiifer not to label an instance positive that is actually negative. \n",
    "- Recall is the ability of a classifier to find all positive instances. Said another way, “for all instances that were actually positive, what percent was classified correctly?”\n",
    "- The F1 score is a weighted harmonic mean of precision and recall such that the best score is 1.0 and the worst is 0.0.\n",
    "- Support is the number of actual occurrences of the class in the specified dataset.\n",
    "\n",
    "From the results, we can observe that random forests provide the best accuracy and recall values, followed by neural network and naive bayes. Even the f1-score is greater than neural network and naive bayes\n",
    "\n"
   ]
  },
  {
   "cell_type": "markdown",
   "metadata": {},
   "source": [
    "### Prediction Example"
   ]
  },
  {
   "cell_type": "markdown",
   "metadata": {},
   "source": [
    "Let's test our classifiers with some new input, lets try it with input text of our dataset(row no = 652). This should belongs to 4 rating category."
   ]
  },
  {
   "cell_type": "code",
   "execution_count": 278,
   "metadata": {},
   "outputs": [
    {
     "name": "stdout",
     "output_type": "stream",
     "text": [
      "Actual Rating: 4\n",
      "Review:  One of my favorite places in Las Vegas! Their happy hour is fantastic and they have a special menu on Mondays that has amazing deals. The fried chicken sandwich is the best I've ever had. The chicken is so tender and full- and I don't like fried chicken! The drinks are great as well. The ONLY thing is.. they have a very hipster/trendy style (which I love) but the servers sometimes have a \"too cool\" demeanor. For example, my husband and I came in and sat at the bar on a Sunday afternoon, seemingly after brunch. The bartender was no where to be found for the whole 13 minutes we sat there. However, there was a group of six servers standing right next to the bar, chatting and laughing amongst themselves. Not one of them greeted us or said \"someone will be right with you\"- not one word. The busboy was busting his butt around the bar so I cut him some slack, but still, you do know how to say hi, right? We left without ever being spoken to. We've been back and will continue to go back for the delicious food, but some of the staff need to up their game.\n",
      "-------------------------------------------------------\n",
      "Naive Bayes Prediction:  4\n",
      "Random Forest Prediction:  4\n",
      "Neural Network Prediction:  4\n"
     ]
    }
   ],
   "source": [
    "# Prediction example\n",
    "print('Actual Rating:', df.iloc[652][\"stars\"])\n",
    "new_text = [df.iloc[652][\"text\"]]\n",
    "print('Review: ', new_text[0])\n",
    "text_features = tfidf_vect.transform(new_text)\n",
    "nbPredict = nbModel.predict(text_features)\n",
    "rfPredict = rfModel.predict(text_features)\n",
    "nnPredict = nnModel.predict(text_features)\n",
    "print('-------------------------------------------------------')\n",
    "print('Naive Bayes Prediction: ', rfPredict[0])\n",
    "print('Random Forest Prediction: ', rfPredict[0])\n",
    "print('Neural Network Prediction: ', rfPredict[0])"
   ]
  },
  {
   "cell_type": "markdown",
   "metadata": {},
   "source": [
    "As we can observe from the results all the classifiers predict the rating category correctly. The performance of all the three classifiers was good but Neural Network slighlty outperformed others. The precision, recall and f-score for all the categories is much better in Neural Network classification. It is more accurate."
   ]
  },
  {
   "cell_type": "code",
   "execution_count": 282,
   "metadata": {},
   "outputs": [
    {
     "name": "stderr",
     "output_type": "stream",
     "text": [
      "/Users/adarshpatel/opt/anaconda3/lib/python3.7/site-packages/sklearn/externals/joblib/__init__.py:15: DeprecationWarning: sklearn.externals.joblib is deprecated in 0.21 and will be removed in 0.23. Please import this functionality directly from joblib, which can be installed with: pip install joblib. If this warning is raised when loading pickled models, you may need to re-serialize those models with scikit-learn 0.21+.\n",
      "  warnings.warn(msg, category=DeprecationWarning)\n"
     ]
    },
    {
     "data": {
      "text/plain": [
       "['nnModel.pkl']"
      ]
     },
     "execution_count": 282,
     "metadata": {},
     "output_type": "execute_result"
    }
   ],
   "source": [
    "from sklearn.externals import joblib \n",
    "  \n",
    "# Save the model as a pickle in a file \n",
    "joblib.dump(nbModel, 'nbModel.pkl') \n",
    "joblib.dump(rfModel, 'rfModel.pkl') \n",
    "joblib.dump(nnModel, 'nnModel.pkl') "
   ]
  },
  {
   "cell_type": "code",
   "execution_count": 283,
   "metadata": {},
   "outputs": [
    {
     "data": {
      "text/plain": [
       "array([4])"
      ]
     },
     "execution_count": 283,
     "metadata": {},
     "output_type": "execute_result"
    }
   ],
   "source": [
    "# Load the model from the file \n",
    "knn_from_joblib = joblib.load('nbModel.pkl')  \n",
    "  \n",
    "# Use the loaded model to make predictions \n",
    "knn_from_joblib.predict(text_features) "
   ]
  },
  {
   "cell_type": "code",
   "execution_count": null,
   "metadata": {},
   "outputs": [],
   "source": []
  }
 ],
 "metadata": {
  "kernelspec": {
   "display_name": "Python 3",
   "language": "python",
   "name": "python3"
  },
  "language_info": {
   "codemirror_mode": {
    "name": "ipython",
    "version": 3
   },
   "file_extension": ".py",
   "mimetype": "text/x-python",
   "name": "python",
   "nbconvert_exporter": "python",
   "pygments_lexer": "ipython3",
   "version": "3.7.4"
  }
 },
 "nbformat": 4,
 "nbformat_minor": 2
}
